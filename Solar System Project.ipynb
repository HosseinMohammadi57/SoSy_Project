{
 "cells": [
  {
   "cell_type": "code",
   "execution_count": 23,
   "metadata": {},
   "outputs": [],
   "source": [
    "\"\"\"Imported Files\"\"\"\n",
    "import numpy as np\n",
    "import random as rand\n",
    "import pylab as plb\n",
    "import matplotlib.animation as animation\n",
    "import time\n",
    "from scipy.spatial.distance import pdist,squareform\n",
    "import math\n",
    "plb.rcParams['figure.figsize'] = 8,6"
   ]
  },
  {
   "cell_type": "code",
   "execution_count": 24,
   "metadata": {},
   "outputs": [],
   "source": [
    "\"\"\"Constants\"\"\"\n",
    "____MASS____ = 5.974e24        #Earth mass\n",
    "____TIME____ = 2897756704      # 91.887262 Year\n",
    "____DIST____ = 149.60e9        # 1 AU\n",
    "____G____ = 1.     # in reduced units\n",
    "#with this choose the appropriate h or step is 0.0003 which is about 10 days."
   ]
  },
  {
   "cell_type": "code",
   "execution_count": 25,
   "metadata": {},
   "outputs": [],
   "source": [
    "Grav_Potential = lambda m,r: -____G____*m/r   # All in reduced units\n",
    "Grav_Force = lambda m,r: ____G____*m/(r**2)   # All in reduced units in the r^ direction"
   ]
  },
  {
   "cell_type": "code",
   "execution_count": 26,
   "metadata": {},
   "outputs": [
    {
     "data": {
      "text/plain": [
       "<matplotlib.legend.Legend at 0x21258a28f98>"
      ]
     },
     "execution_count": 26,
     "metadata": {},
     "output_type": "execute_result"
    },
    {
     "data": {
      "image/png": "[encoded data removed]",
      "text/plain": [
       "<Figure size 432x288 with 1 Axes>"
      ]
     },
     "metadata": {
      "needs_background": "light"
     },
     "output_type": "display_data"
    }
   ],
   "source": [
    "class Planet:\n",
    "    \"\"\"Planet calss makes a planet. Notice that all units are reduced.\"\"\"\n",
    "    def __init__(self,name,mass,dist_from_sun,radius,speed):\n",
    "        \n",
    "        self.name = name\n",
    "        self.mass = mass\n",
    "        self.dist_from_sun = dist_from_sun\n",
    "        self.radius = radius\n",
    "        self.speed = speed\n",
    "        self.X = self.dist_from_sun\n",
    "        self.Y = 0.\n",
    "        self.Vx = 0.\n",
    "        self.Vy = self.speed\n",
    "\n",
    "Earth = Planet(\"Earth\",1.,1.,4.26337e-5,577.226937)\n",
    "Sun = Planet(\"Sun\",333110.144,0.,4.654078e-3,0.)\n",
    "planets = [Earth,Sun]\n",
    "for pl in planets:\n",
    "    plb.scatter(pl.X,pl.Y,label=pl.name)\n",
    "plb.legend()"
   ]
  },
  {
   "cell_type": "code",
   "execution_count": 10,
   "metadata": {},
   "outputs": [
    {
     "data": {
      "text/plain": [
       "577.226937026738"
      ]
     },
     "execution_count": 10,
     "metadata": {},
     "output_type": "execute_result"
    }
   ],
   "source": [
    "____TIME____/____DIST____*2.98e4 "
   ]
  }
 ],
 "metadata": {
  "kernelspec": {
   "display_name": "Python 3",
   "language": "python",
   "name": "python3"
  },
  "language_info": {
   "codemirror_mode": {
    "name": "ipython",
    "version": 3
   },
   "file_extension": ".py",
   "mimetype": "text/x-python",
   "name": "python",
   "nbconvert_exporter": "python",
   "pygments_lexer": "ipython3",
   "version": "3.7.3"
  }
 },
 "nbformat": 4,
 "nbformat_minor": 2
}
