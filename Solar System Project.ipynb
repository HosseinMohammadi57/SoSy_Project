{
 "cells": [
  {
   "cell_type": "code",
   "execution_count": 1,
   "metadata": {},
   "outputs": [],
   "source": [
    "\"\"\"Imported Files\"\"\"\n",
    "import numpy as np\n",
    "import random as rand\n",
    "import pylab as plb\n",
    "import matplotlib.animation as animation\n",
    "import time\n",
    "from scipy.spatial.distance import pdist,squareform\n",
    "import math\n",
    "plb.rcParams['figure.figsize'] = 8,6"
   ]
  },
  {
   "cell_type": "code",
   "execution_count": 2,
   "metadata": {},
   "outputs": [],
   "source": [
    "\"\"\"Constants\"\"\"\n",
    "____MASS____ = 5.974e24        #Earth mass\n",
    "____TIME____ = 2897756704      # 91.887262 Year\n",
    "____DIST____ = 149.60e9        # 1 AU\n",
    "____G____ = 1.     # in reduced units\n",
    "#with this choose the appropriate h or step is 0.0003 which is about 10 days."
   ]
  },
  {
   "cell_type": "code",
   "execution_count": 3,
   "metadata": {},
   "outputs": [],
   "source": [
    "Grav_Potential = lambda m,r: -____G____*m/r   # All in reduced units\n",
    "Grav_Force = lambda m,r: ____G____*m/(r**2)   # All in reduced units in the r^ direction"
   ]
  }
 ],
 "metadata": {
  "kernelspec": {
   "display_name": "Python 3",
   "language": "python",
   "name": "python3"
  },
  "language_info": {
   "codemirror_mode": {
    "name": "ipython",
    "version": 3
   },
   "file_extension": ".py",
   "mimetype": "text/x-python",
   "name": "python",
   "nbconvert_exporter": "python",
   "pygments_lexer": "ipython3",
   "version": "3.7.3"
  }
 },
 "nbformat": 4,
 "nbformat_minor": 2
}
