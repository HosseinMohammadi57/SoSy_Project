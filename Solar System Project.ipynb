{
 "cells": [
  {
   "cell_type": "code",
   "execution_count": 23,
   "metadata": {},
   "outputs": [],
   "source": [
    "\"\"\"Imported Files\"\"\"\n",
    "import numpy as np\n",
    "import random as rand\n",
    "import pylab as plb\n",
    "import matplotlib.animation as animation\n",
    "import time\n",
    "from scipy.spatial.distance import pdist,squareform\n",
    "import math\n",
    "plb.rcParams['figure.figsize'] = 8,6"
   ]
  },
  {
   "cell_type": "code",
   "execution_count": 46,
   "metadata": {},
   "outputs": [],
   "source": [
    "\"\"\"Constants\"\"\"\n",
    "____MASS____ = 5.974e24        #Earth mass\n",
    "____TIME____ = 2897756704      # 91.887262 Year\n",
    "____DIST____ = 149.60e9        # 1 AU\n",
    "____G____ = 1.     # in reduced units\n",
    "dt = 0.0003\n",
    "#with this choose the appropriate h or step is 0.0003 which is about 10 days."
   ]
  },
  {
   "cell_type": "code",
   "execution_count": 66,
   "metadata": {},
   "outputs": [],
   "source": [
    "Grav_Potential = lambda m,r: -____G____*m/r   # All in reduced units\n",
    "Grav_Force = lambda m1,m2,r: ____G____*m1*m2/(r**2)   # All in reduced units in the r^ direction"
   ]
  },
  {
   "cell_type": "code",
   "execution_count": 68,
   "metadata": {},
   "outputs": [
    {
     "name": "stdout",
     "output_type": "stream",
     "text": [
      "[[  0.        0.        0.        0.     ]\n",
      " [  1.        0.        0.      577.2269 ]\n",
      " [  1.524     0.        0.      466.81775]]\n"
     ]
    },
    {
     "data": {
      "image/png": "[encoded data removed]",
      "text/plain": [
       "<Figure size 432x288 with 1 Axes>"
      ]
     },
     "metadata": {
      "needs_background": "light"
     },
     "output_type": "display_data"
    }
   ],
   "source": [
    "class Planet:\n",
    "    \"\"\"Planet calss makes a planet. Notice that all units are reduced.\"\"\"\n",
    "    def __init__(self,name,color,mass,dist_from_sun,radius,speed,marker=\"o\"):\n",
    "        \n",
    "        self.name = name\n",
    "        self.color = color\n",
    "        self.marker = marker\n",
    "        self.mass = mass\n",
    "        self.dist_from_sun = dist_from_sun\n",
    "        self.radius = radius\n",
    "        self.speed = speed\n",
    "        self.X = self.dist_from_sun\n",
    "        self.Y = 0.\n",
    "        self.Vx = 0.\n",
    "        self.Vy = self.speed\n",
    "        self.F_X_0 = 0.\n",
    "        self.F_Y_0 = 0.\n",
    "\n",
    "class System:\n",
    "    \n",
    "    def __init__(self):\n",
    "        self.Planets = []\n",
    "        self.NoP = 0  # Refers to Number of Planets\n",
    "        \n",
    "    def add_planet(self,PLANET):\n",
    "        self.Planets.append(PLANET)\n",
    "        self.NoP += 1\n",
    "    \n",
    "    def set_coordinates(self):\n",
    "        \"\"\"Just Run this method once after all planets are included!\"\"\"\n",
    "        \n",
    "        self.Coord = np.zeros((self.NoP,4),'float32')\n",
    "        \n",
    "        for j in range(self.NoP):\n",
    "            self.Coord[j,0] = self.Planets[j].X\n",
    "            self.Coord[j,1] = self.Planets[j].Y\n",
    "            self.Coord[j,2] = self.Planets[j].Vx\n",
    "            self.Coord[j,3] = self.Planets[j].Vy\n",
    "\n",
    "        \n",
    "    def plot(self):\n",
    "        for pl in SoSy.Planets:\n",
    "            plb.scatter(pl.X,pl.Y,label=pl.name,color=pl.color,marker=pl.marker)\n",
    "        plb.legend()\n",
    "        \n",
    "    def Action(self,C=1):\n",
    "    \n",
    "        for i in range(C):\n",
    "            for pl in self.Planets:\n",
    "                #global F_X_0\n",
    "                #global F_Y_0\n",
    "\n",
    "                #dots[:,0] += dots[:,2]*dt + 0.5*F_X_0*(dt**2)\n",
    "                #dots[:,1] += dots[:,3]*dt + 0.5*F_Y_0*(dt**2)\n",
    "\n",
    "                pl.X += pl.Vx*dt \n",
    "                pl.Y += pl.Vy*dt\n",
    "\n",
    "                \"\"\"\n",
    "                cross_left = dots[:,0]<0.\n",
    "                cross_right = dots[:,0]>__L__\n",
    "                cross_top = dots[:,1]>__L__\n",
    "                cross_bot = dots[:,1]<0.\n",
    "\n",
    "\n",
    "                dots[cross_left,0] += __L__\n",
    "                dots[cross_right,0] -= __L__\n",
    "\n",
    "                dots[cross_top,1] -= __L__\n",
    "                dots[cross_bot,1] += __L__\n",
    "                \"\"\"\n",
    "\n",
    "\n",
    "                #F_X_1 , F_Y_1 = InterForces(dots,cutoff)\n",
    "\n",
    "                #dots[:,2] += 0.5*(F_X_0+F_X_1)*(dt)\n",
    "                #dots[:,3] += 0.5*(F_Y_0+F_Y_1)*(dt)\n",
    "\n",
    "                #F_X_0 = F_X_1\n",
    "                #F_Y_0 = F_Y_1\n",
    "                \n",
    "    \n",
    "    def InterplanetaryForces(self):\n",
    "\n",
    "        D = squareform(pdist(self.Coord[:,0:2]))\n",
    "        \n",
    "        ind1 , ind2 = np.where(D>0)\n",
    "        unq = ind1 < ind2\n",
    "        ind1 = ind1[unq] \n",
    "        ind2 = ind2[unq]\n",
    "\n",
    "        force_matrix_x = np.zeros((self.NoP,self.NoP))                \n",
    "        force_matrix_y = np.zeros((self.NoP,self.NoP))             \n",
    "\n",
    "        for i1,i2 in zip(ind1,ind2): \n",
    "\n",
    "            r = (self.Coord[i2,0]-self.Coord[i1,0],self.Coord[i2,1]-self.Coord[i1,1])       \n",
    "\n",
    "\n",
    "            theta_x = angle_between(r,(1,0))\n",
    "            theta_y = angle_between(r,(0,1))\n",
    "\n",
    "            force = Grav_Force(self.Planets[i1].mass,self.Planets[i2].mass,D[i1,i2])\n",
    "\n",
    "\n",
    "            force_matrix_x[i1,i2] += -force*np.cos(theta_x)\n",
    "            force_matrix_y[i1,i2] += -force*np.cos(theta_y)\n",
    "\n",
    "            force_matrix_x[i2,i1] += +force*np.cos(theta_x)\n",
    "            force_matrix_y[i2,i1] += +force*np.cos(theta_y)\n",
    "\n",
    "\n",
    "        F_X = np.sum (force_matrix_x,axis=1)\n",
    "        F_Y = np.sum (force_matrix_y,axis=1)\n",
    "\n",
    "        return F_X,F_Y             \n",
    "\n",
    "\n",
    "Sun = Planet(\"Sun\",'yellow',333110.144,0.,4.654078e-3,0.)        \n",
    "Earth = Planet(\"Earth\",'blue',1.,1.,4.26337e-5,577.226937)\n",
    "Mars = Planet(\"Mars\",'red',0.107,1.524,2.27072e-5,466.817758)\n",
    "\n",
    "SoSy = System ()\n",
    "\n",
    "SoSy.add_planet(Sun)\n",
    "SoSy.add_planet(Earth)\n",
    "SoSy.add_planet(Mars)\n",
    "SoSy.set_coordinates()\n",
    "\n",
    "#SoSy.Action(C=10)\n",
    "\n",
    "SoSy.plot()\n",
    "\n",
    "print(SoSy.Coord)"
   ]
  },
  {
   "cell_type": "code",
   "execution_count": 49,
   "metadata": {},
   "outputs": [
    {
     "data": {
      "text/plain": [
       "466.81775779679145"
      ]
     },
     "execution_count": 49,
     "metadata": {},
     "output_type": "execute_result"
    }
   ],
   "source": [
    "____TIME____/____DIST____*2.41e4 "
   ]
  }
 ],
 "metadata": {
  "kernelspec": {
   "display_name": "Python 3",
   "language": "python",
   "name": "python3"
  },
  "language_info": {
   "codemirror_mode": {
    "name": "ipython",
    "version": 3
   },
   "file_extension": ".py",
   "mimetype": "text/x-python",
   "name": "python",
   "nbconvert_exporter": "python",
   "pygments_lexer": "ipython3",
   "version": "3.7.3"
  }
 },
 "nbformat": 4,
 "nbformat_minor": 2
}
